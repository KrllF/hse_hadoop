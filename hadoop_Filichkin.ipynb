{
 "cells": [
  {
   "cell_type": "code",
   "execution_count": 11,
   "id": "d8832a8f",
   "metadata": {},
   "outputs": [],
   "source": [
    "import pandas\n",
    "from fim import fpgrowth"
   ]
  },
  {
   "cell_type": "code",
   "execution_count": 18,
   "id": "1b066f58",
   "metadata": {},
   "outputs": [],
   "source": [
    "\n",
    "def find_frequent_itemsets(data, minsupp):\n",
    "    relative_supp = (minsupp / len(data)) * 100\n",
    "    frequent_itemsets = fpgrowth(data, supp=relative_supp, zmin=1)\n",
    "    return frequent_itemsets\n",
    "\n",
    "def parse_file_to_dict(file_path):\n",
    "    data_dict = {}\n",
    "    with open(file_path, 'r', encoding='utf-8') as file:\n",
    "        headers = file.readline().strip().split('\\t')\n",
    "        for line_num, line in enumerate(file, start=1):\n",
    "            values = list(map(int, line.strip().split()))\n",
    "            words = [headers[i] for i, val in enumerate(values) if val == 1]\n",
    "            data_dict[line_num] = words\n",
    "    return data_dict\n",
    "\n",
    "parsed_data = parse_file_to_dict('a.txt')\n",
    "data = list(parsed_data.values())\n",
    "\n",
    "minsupp = 35"
   ]
  },
  {
   "cell_type": "markdown",
   "id": "67d3d421",
   "metadata": {},
   "source": [
    "## 1 - a"
   ]
  },
  {
   "cell_type": "code",
   "execution_count": 20,
   "id": "b2228a95",
   "metadata": {},
   "outputs": [
    {
     "name": "stdout",
     "output_type": "stream",
     "text": [
      "20910\n"
     ]
    }
   ],
   "source": [
    "frequent_itemsets = find_frequent_itemsets(data, minsupp)\n",
    "num_frequent_itemsets = len(frequent_itemsets)\n",
    "\n",
    "print(num_frequent_itemsets)"
   ]
  },
  {
   "cell_type": "markdown",
   "id": "3e5faab3",
   "metadata": {},
   "source": [
    "## 1 - b"
   ]
  },
  {
   "cell_type": "code",
   "execution_count": 21,
   "id": "efa5141c",
   "metadata": {},
   "outputs": [
    {
     "name": "stdout",
     "output_type": "stream",
     "text": [
      "13812\n"
     ]
    }
   ],
   "source": [
    "def find_closed_itemsets(data, minsupp):\n",
    "    relative_supp = (minsupp / len(data)) * 100\n",
    "    closed_itemsets = fpgrowth(data, supp=relative_supp, zmin=1, report='a', target='c')\n",
    "    return closed_itemsets\n",
    "\n",
    "closed_itemsets = find_closed_itemsets(data, minsupp)\n",
    "num_closed_itemsets = len(closed_itemsets)\n",
    "\n",
    "print(num_closed_itemsets) "
   ]
  },
  {
   "cell_type": "markdown",
   "id": "eebfbcab",
   "metadata": {},
   "source": [
    "## 1 - c"
   ]
  },
  {
   "cell_type": "code",
   "execution_count": 24,
   "id": "7c513e24",
   "metadata": {},
   "outputs": [
    {
     "name": "stdout",
     "output_type": "stream",
     "text": [
      "4002\n"
     ]
    }
   ],
   "source": [
    "def find_maximal_itemsets(data, minsupp):\n",
    "    relative_supp = (minsupp / len(data)) * 100\n",
    "    itemsets = fpgrowth(data, supp=relative_supp, zmin=1, report='a')\n",
    "    maximal_itemsets = []\n",
    "\n",
    "    for itemset in itemsets:\n",
    "        items, support = itemset\n",
    "        is_maximal = True\n",
    "        for other_itemset in itemsets:\n",
    "            other_items, _ = other_itemset\n",
    "            if set(items).issubset(set(other_items)) and items != other_items:\n",
    "                is_maximal = False\n",
    "                break\n",
    "        if is_maximal:\n",
    "            maximal_itemsets.append((items, support))\n",
    "\n",
    "    return maximal_itemsets\n",
    "\n",
    "maximal_itemsets = find_maximal_itemsets(data, minsupp)\n",
    "num_maximal_itemsets = len(maximal_itemsets)\n",
    "\n",
    "print(num_maximal_itemsets)"
   ]
  },
  {
   "cell_type": "markdown",
   "id": "f46bb957",
   "metadata": {},
   "source": [
    "## 1 - d"
   ]
  },
  {
   "cell_type": "code",
   "execution_count": 27,
   "id": "aab9f9a6",
   "metadata": {},
   "outputs": [
    {
     "name": "stdout",
     "output_type": "stream",
     "text": [
      "1: ('casino internet', 'casino game online', 'casino gambling', 'casino', 'gambling', 'gambling internet', 'casino online', 'casino gambling online', 'gambling online')\n",
      "\n",
      "2: ('casino game', 'casino internet', 'casino gambling', 'casino', 'gambling', 'gambling internet', 'casino online', 'casino gambling online', 'gambling online')\n",
      "\n",
      "3: ('casino game', 'casino internet', 'casino game online', 'casino gambling', 'casino', 'gambling internet', 'casino online', 'casino gambling online', 'gambling online')\n",
      "\n",
      "4: ('casino game', 'casino internet', 'casino game online', 'casino gambling', 'casino', 'gambling', 'casino online', 'casino gambling online', 'gambling online')\n",
      "\n",
      "5: ('cheap hosting web', 'discount hosting web', 'cheap hosting site web', 'affordable hosting web', 'company hosting web', 'cost hosting low web', 'hosting services web', 'hosting site web', 'hosting web')\n",
      "\n",
      "6: ('casino net', 'casino line', 'casino game', 'casino internet', 'casino gambling', 'gambling internet', 'casino online', 'casino game online', 'gambling online')\n",
      "\n",
      "7: ('casino net', 'casino line', 'casino game', 'casino internet', 'casino gambling', 'casino online', 'casino gambling online', 'casino game online', 'gambling online')\n",
      "\n",
      "8: ('casino net', 'casino line', 'casino internet', 'casino game online', 'casino gambling', 'gambling internet', 'casino online', 'casino gambling online', 'gambling online')\n",
      "\n",
      "9: ('casino internet', 'casino game online', 'casino gambling', 'casino', 'gambling', 'gambling internet', 'casino online', 'casino gambling online', 'gambling online')\n",
      "\n",
      "10: ('casino game', 'casino internet', 'casino gambling', 'casino', 'gambling', 'gambling internet', 'casino online', 'casino gambling online', 'gambling online')\n",
      "\n",
      "11: ('casino game', 'casino internet', 'casino game online', 'casino gambling', 'casino', 'gambling internet', 'casino online', 'casino gambling online', 'gambling online')\n",
      "\n",
      "12: ('casino game', 'casino internet', 'casino game online', 'casino gambling', 'casino', 'gambling', 'casino online', 'casino gambling online', 'gambling online')\n",
      "\n"
     ]
    }
   ],
   "source": [
    "ans = []\n",
    "\n",
    "def find_set(my_array):\n",
    "    sets = []\n",
    "    for k in my_array:\n",
    "        if len(k[0]) >= 9:\n",
    "            sets.append(k[0])\n",
    "        if len(sets) > 3:\n",
    "            return sets\n",
    "\n",
    "frequent_itemsets_sets = find_set(frequent_itemsets)\n",
    "\n",
    "result_closed_sets = find_set(closed_itemsets)\n",
    "\n",
    "maximal_itemsets_sets = find_set(maximal_itemsets)\n",
    "\n",
    "ans.extend(frequent_itemsets_sets)\n",
    "ans.extend(result_closed_sets)\n",
    "ans.extend(maximal_itemsets_sets)\n",
    "\n",
    "n = 1\n",
    "for k in ans:\n",
    "    print(n, ': ', k, '\\n', sep='')\n",
    "    n += 1"
   ]
  },
  {
   "cell_type": "markdown",
   "id": "7bed4f26",
   "metadata": {},
   "source": [
    "## 2 - a"
   ]
  },
  {
   "cell_type": "code",
   "execution_count": 29,
   "id": "40b28393",
   "metadata": {},
   "outputs": [
    {
     "name": "stdout",
     "output_type": "stream",
     "text": [
      "10940\n"
     ]
    }
   ],
   "source": [
    "from fim import apriori\n",
    "\n",
    "minsupp = 35\n",
    "minconf = 1\n",
    "\n",
    "rules = apriori(data, target='r', supp=minsupp, conf=minconf)\n",
    "num_rules = len(rules)\n",
    "print(num_rules)"
   ]
  },
  {
   "cell_type": "markdown",
   "id": "536803e7",
   "metadata": {},
   "source": [
    "## 2 - b"
   ]
  },
  {
   "cell_type": "code",
   "execution_count": 30,
   "id": "c6d2d21e",
   "metadata": {},
   "outputs": [
    {
     "name": "stdout",
     "output_type": "stream",
     "text": [
      "7098\n"
     ]
    }
   ],
   "source": [
    "rules = apriori(data, target='r', supp=minsupp, conf=minconf, report='c')\n",
    "\n",
    "print(len(rules))"
   ]
  }
 ],
 "metadata": {
  "kernelspec": {
   "display_name": "Python 3 (ipykernel)",
   "language": "python",
   "name": "python3"
  },
  "language_info": {
   "codemirror_mode": {
    "name": "ipython",
    "version": 3
   },
   "file_extension": ".py",
   "mimetype": "text/x-python",
   "name": "python",
   "nbconvert_exporter": "python",
   "pygments_lexer": "ipython3",
   "version": "3.10.12"
  }
 },
 "nbformat": 4,
 "nbformat_minor": 5
}
